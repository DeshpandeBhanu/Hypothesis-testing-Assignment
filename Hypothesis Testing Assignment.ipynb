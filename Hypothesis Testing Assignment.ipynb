{
 "cells": [
  {
   "cell_type": "markdown",
   "id": "6e1ef0c5",
   "metadata": {},
   "source": [
    "## HYPOTHESIS TESTING ASSIGNMENTS \n"
   ]
  },
  {
   "cell_type": "markdown",
   "id": "96e04a66",
   "metadata": {},
   "source": [
    "Q.NO:1\n",
    "A F&B manager wants to determine whether there is any significant difference in the diameter of the cutlet between two units. A randomly selected sample of cutlets was collected from both units and measured? Analyze the data and draw inferences at 5% significance level. Please state the assumptions and tests that you carried out to check validity of the assumptions.\n",
    "\n",
    "Minitab File : Cutlets.mtw!\n"
   ]
  },
  {
   "cell_type": "markdown",
   "id": "99886c68",
   "metadata": {},
   "source": [
    "SOLUTION\n",
    "\n",
    "As per given question we can find that it is the two sampled test \n",
    "Let us assume \n",
    "\n",
    "Null hypothesis as Ho:μ1 = μ2 (there is no difference between diameter of the cutlet)\n",
    "\n",
    "Alternate hypothesis as Ha::μ1 ≠ μ2 (there is significant difference in diameters of cutlets)"
   ]
  },
  {
   "cell_type": "code",
   "execution_count": 1,
   "id": "4d118355",
   "metadata": {
    "ExecuteTime": {
     "end_time": "2023-10-16T18:40:37.868007Z",
     "start_time": "2023-10-16T18:39:35.569699Z"
    }
   },
   "outputs": [],
   "source": [
    "import pandas as pd \n",
    "import numpy as np \n",
    "import warnings\n",
    "warnings.filterwarnings(\"ignore\")\n",
    "from scipy import stats"
   ]
  },
  {
   "cell_type": "code",
   "execution_count": 5,
   "id": "d139a45f",
   "metadata": {
    "ExecuteTime": {
     "end_time": "2023-10-16T18:42:32.253401Z",
     "start_time": "2023-10-16T18:42:31.920065Z"
    }
   },
   "outputs": [],
   "source": [
    "df=pd.read_csv(\"Cutlets.csv\")"
   ]
  },
  {
   "cell_type": "code",
   "execution_count": 6,
   "id": "b3b728ec",
   "metadata": {
    "ExecuteTime": {
     "end_time": "2023-10-16T18:42:37.239904Z",
     "start_time": "2023-10-16T18:42:36.904213Z"
    }
   },
   "outputs": [
    {
     "data": {
      "text/html": [
       "<div>\n",
       "<style scoped>\n",
       "    .dataframe tbody tr th:only-of-type {\n",
       "        vertical-align: middle;\n",
       "    }\n",
       "\n",
       "    .dataframe tbody tr th {\n",
       "        vertical-align: top;\n",
       "    }\n",
       "\n",
       "    .dataframe thead th {\n",
       "        text-align: right;\n",
       "    }\n",
       "</style>\n",
       "<table border=\"1\" class=\"dataframe\">\n",
       "  <thead>\n",
       "    <tr style=\"text-align: right;\">\n",
       "      <th></th>\n",
       "      <th>Unit A</th>\n",
       "      <th>Unit B</th>\n",
       "    </tr>\n",
       "  </thead>\n",
       "  <tbody>\n",
       "    <tr>\n",
       "      <th>0</th>\n",
       "      <td>6.8090</td>\n",
       "      <td>6.7703</td>\n",
       "    </tr>\n",
       "    <tr>\n",
       "      <th>1</th>\n",
       "      <td>6.4376</td>\n",
       "      <td>7.5093</td>\n",
       "    </tr>\n",
       "    <tr>\n",
       "      <th>2</th>\n",
       "      <td>6.9157</td>\n",
       "      <td>6.7300</td>\n",
       "    </tr>\n",
       "    <tr>\n",
       "      <th>3</th>\n",
       "      <td>7.3012</td>\n",
       "      <td>6.7878</td>\n",
       "    </tr>\n",
       "    <tr>\n",
       "      <th>4</th>\n",
       "      <td>7.4488</td>\n",
       "      <td>7.1522</td>\n",
       "    </tr>\n",
       "    <tr>\n",
       "      <th>5</th>\n",
       "      <td>7.3871</td>\n",
       "      <td>6.8110</td>\n",
       "    </tr>\n",
       "    <tr>\n",
       "      <th>6</th>\n",
       "      <td>6.8755</td>\n",
       "      <td>7.2212</td>\n",
       "    </tr>\n",
       "    <tr>\n",
       "      <th>7</th>\n",
       "      <td>7.0621</td>\n",
       "      <td>6.6606</td>\n",
       "    </tr>\n",
       "    <tr>\n",
       "      <th>8</th>\n",
       "      <td>6.6840</td>\n",
       "      <td>7.2402</td>\n",
       "    </tr>\n",
       "    <tr>\n",
       "      <th>9</th>\n",
       "      <td>6.8236</td>\n",
       "      <td>7.0503</td>\n",
       "    </tr>\n",
       "    <tr>\n",
       "      <th>10</th>\n",
       "      <td>7.3930</td>\n",
       "      <td>6.8810</td>\n",
       "    </tr>\n",
       "    <tr>\n",
       "      <th>11</th>\n",
       "      <td>7.5169</td>\n",
       "      <td>7.4059</td>\n",
       "    </tr>\n",
       "    <tr>\n",
       "      <th>12</th>\n",
       "      <td>6.9246</td>\n",
       "      <td>6.7652</td>\n",
       "    </tr>\n",
       "    <tr>\n",
       "      <th>13</th>\n",
       "      <td>6.9256</td>\n",
       "      <td>6.0380</td>\n",
       "    </tr>\n",
       "    <tr>\n",
       "      <th>14</th>\n",
       "      <td>6.5797</td>\n",
       "      <td>7.1581</td>\n",
       "    </tr>\n",
       "    <tr>\n",
       "      <th>15</th>\n",
       "      <td>6.8394</td>\n",
       "      <td>7.0240</td>\n",
       "    </tr>\n",
       "    <tr>\n",
       "      <th>16</th>\n",
       "      <td>6.5970</td>\n",
       "      <td>6.6672</td>\n",
       "    </tr>\n",
       "    <tr>\n",
       "      <th>17</th>\n",
       "      <td>7.2705</td>\n",
       "      <td>7.4314</td>\n",
       "    </tr>\n",
       "    <tr>\n",
       "      <th>18</th>\n",
       "      <td>7.2828</td>\n",
       "      <td>7.3070</td>\n",
       "    </tr>\n",
       "    <tr>\n",
       "      <th>19</th>\n",
       "      <td>7.3495</td>\n",
       "      <td>6.7478</td>\n",
       "    </tr>\n",
       "    <tr>\n",
       "      <th>20</th>\n",
       "      <td>6.9438</td>\n",
       "      <td>6.8889</td>\n",
       "    </tr>\n",
       "    <tr>\n",
       "      <th>21</th>\n",
       "      <td>7.1560</td>\n",
       "      <td>7.4220</td>\n",
       "    </tr>\n",
       "    <tr>\n",
       "      <th>22</th>\n",
       "      <td>6.5341</td>\n",
       "      <td>6.5217</td>\n",
       "    </tr>\n",
       "    <tr>\n",
       "      <th>23</th>\n",
       "      <td>7.2854</td>\n",
       "      <td>7.1688</td>\n",
       "    </tr>\n",
       "    <tr>\n",
       "      <th>24</th>\n",
       "      <td>6.9952</td>\n",
       "      <td>6.7594</td>\n",
       "    </tr>\n",
       "    <tr>\n",
       "      <th>25</th>\n",
       "      <td>6.8568</td>\n",
       "      <td>6.9399</td>\n",
       "    </tr>\n",
       "    <tr>\n",
       "      <th>26</th>\n",
       "      <td>7.2163</td>\n",
       "      <td>7.0133</td>\n",
       "    </tr>\n",
       "    <tr>\n",
       "      <th>27</th>\n",
       "      <td>6.6801</td>\n",
       "      <td>6.9182</td>\n",
       "    </tr>\n",
       "    <tr>\n",
       "      <th>28</th>\n",
       "      <td>6.9431</td>\n",
       "      <td>6.3346</td>\n",
       "    </tr>\n",
       "    <tr>\n",
       "      <th>29</th>\n",
       "      <td>7.0852</td>\n",
       "      <td>7.5459</td>\n",
       "    </tr>\n",
       "    <tr>\n",
       "      <th>30</th>\n",
       "      <td>6.7794</td>\n",
       "      <td>7.0992</td>\n",
       "    </tr>\n",
       "    <tr>\n",
       "      <th>31</th>\n",
       "      <td>7.2783</td>\n",
       "      <td>7.1180</td>\n",
       "    </tr>\n",
       "    <tr>\n",
       "      <th>32</th>\n",
       "      <td>7.1561</td>\n",
       "      <td>6.6965</td>\n",
       "    </tr>\n",
       "    <tr>\n",
       "      <th>33</th>\n",
       "      <td>7.3943</td>\n",
       "      <td>6.5780</td>\n",
       "    </tr>\n",
       "    <tr>\n",
       "      <th>34</th>\n",
       "      <td>6.9405</td>\n",
       "      <td>7.3875</td>\n",
       "    </tr>\n",
       "  </tbody>\n",
       "</table>\n",
       "</div>"
      ],
      "text/plain": [
       "    Unit A  Unit B\n",
       "0   6.8090  6.7703\n",
       "1   6.4376  7.5093\n",
       "2   6.9157  6.7300\n",
       "3   7.3012  6.7878\n",
       "4   7.4488  7.1522\n",
       "5   7.3871  6.8110\n",
       "6   6.8755  7.2212\n",
       "7   7.0621  6.6606\n",
       "8   6.6840  7.2402\n",
       "9   6.8236  7.0503\n",
       "10  7.3930  6.8810\n",
       "11  7.5169  7.4059\n",
       "12  6.9246  6.7652\n",
       "13  6.9256  6.0380\n",
       "14  6.5797  7.1581\n",
       "15  6.8394  7.0240\n",
       "16  6.5970  6.6672\n",
       "17  7.2705  7.4314\n",
       "18  7.2828  7.3070\n",
       "19  7.3495  6.7478\n",
       "20  6.9438  6.8889\n",
       "21  7.1560  7.4220\n",
       "22  6.5341  6.5217\n",
       "23  7.2854  7.1688\n",
       "24  6.9952  6.7594\n",
       "25  6.8568  6.9399\n",
       "26  7.2163  7.0133\n",
       "27  6.6801  6.9182\n",
       "28  6.9431  6.3346\n",
       "29  7.0852  7.5459\n",
       "30  6.7794  7.0992\n",
       "31  7.2783  7.1180\n",
       "32  7.1561  6.6965\n",
       "33  7.3943  6.5780\n",
       "34  6.9405  7.3875"
      ]
     },
     "execution_count": 6,
     "metadata": {},
     "output_type": "execute_result"
    }
   ],
   "source": [
    "df"
   ]
  },
  {
   "cell_type": "code",
   "execution_count": 10,
   "id": "ceb09f62",
   "metadata": {
    "ExecuteTime": {
     "end_time": "2023-10-16T18:44:54.631184Z",
     "start_time": "2023-10-16T18:44:54.624120Z"
    }
   },
   "outputs": [
    {
     "data": {
      "text/plain": [
       "7.0190914285714285"
      ]
     },
     "execution_count": 10,
     "metadata": {},
     "output_type": "execute_result"
    }
   ],
   "source": [
    "df[\"Unit A\"].mean()\n"
   ]
  },
  {
   "cell_type": "code",
   "execution_count": 11,
   "id": "578fec2c",
   "metadata": {
    "ExecuteTime": {
     "end_time": "2023-10-16T18:44:57.190792Z",
     "start_time": "2023-10-16T18:44:57.182924Z"
    }
   },
   "outputs": [
    {
     "data": {
      "text/plain": [
       "6.964297142857142"
      ]
     },
     "execution_count": 11,
     "metadata": {},
     "output_type": "execute_result"
    }
   ],
   "source": [
    "df[\"Unit B\"].mean()"
   ]
  },
  {
   "cell_type": "code",
   "execution_count": 38,
   "id": "8cdf8dcd",
   "metadata": {
    "ExecuteTime": {
     "end_time": "2023-10-16T19:07:01.470538Z",
     "start_time": "2023-10-16T19:07:01.463842Z"
    }
   },
   "outputs": [],
   "source": [
    "ztest,p=stats.ttest_ind(df[\"Unit A\"],df[\"Unit B\"])"
   ]
  },
  {
   "cell_type": "code",
   "execution_count": 45,
   "id": "ff07fae9",
   "metadata": {
    "ExecuteTime": {
     "end_time": "2023-10-16T19:08:22.671073Z",
     "start_time": "2023-10-16T19:08:22.655392Z"
    }
   },
   "outputs": [
    {
     "data": {
      "text/plain": [
       "0.4722394724599501"
      ]
     },
     "execution_count": 45,
     "metadata": {},
     "output_type": "execute_result"
    }
   ],
   "source": [
    "p"
   ]
  },
  {
   "cell_type": "code",
   "execution_count": 44,
   "id": "2fb92913",
   "metadata": {
    "ExecuteTime": {
     "end_time": "2023-10-16T19:08:18.235726Z",
     "start_time": "2023-10-16T19:08:18.232144Z"
    }
   },
   "outputs": [
    {
     "data": {
      "text/plain": [
       "0.7228688704678063"
      ]
     },
     "execution_count": 44,
     "metadata": {},
     "output_type": "execute_result"
    }
   ],
   "source": [
    "ztest"
   ]
  },
  {
   "cell_type": "code",
   "execution_count": 39,
   "id": "8bbab164",
   "metadata": {
    "ExecuteTime": {
     "end_time": "2023-10-16T19:07:04.517448Z",
     "start_time": "2023-10-16T19:07:04.482225Z"
    }
   },
   "outputs": [
    {
     "name": "stdout",
     "output_type": "stream",
     "text": [
      "zcalculated value is 0.723\n",
      "p-value is  0.472\n"
     ]
    }
   ],
   "source": [
    "print(\"zcalculated value is\",ztest.round(3))\n",
    "print(\"p-value is \",p.round(3))"
   ]
  },
  {
   "cell_type": "code",
   "execution_count": 40,
   "id": "e715f510",
   "metadata": {
    "ExecuteTime": {
     "end_time": "2023-10-16T19:07:16.046830Z",
     "start_time": "2023-10-16T19:07:16.041505Z"
    }
   },
   "outputs": [
    {
     "name": "stdout",
     "output_type": "stream",
     "text": [
      "accept null hypothesis , reject alternative hypothesis\n"
     ]
    }
   ],
   "source": [
    "if p<0.05:\n",
    "    print(\"reject null hypothesis , accept alternative hypothesis\")\n",
    "else:\n",
    "    print(\"accept null hypothesis , reject alternative hypothesis\")"
   ]
  },
  {
   "cell_type": "code",
   "execution_count": 46,
   "id": "f8f7d782",
   "metadata": {
    "ExecuteTime": {
     "end_time": "2023-10-16T19:11:11.442972Z",
     "start_time": "2023-10-16T19:11:11.429011Z"
    }
   },
   "outputs": [],
   "source": [
    "# As null hypothesis is accepted so we can say that the diameter of the cutlets are significantly same\n"
   ]
  },
  {
   "cell_type": "markdown",
   "id": "3bb15a33",
   "metadata": {},
   "source": [
    "Q.NO:2\n",
    "\n",
    "A hospital wants to determine whether there is any difference in the average Turn Around Time (TAT) of reports of the laboratories on their preferred list. They collected a random sample and recorded TAT for reports of 4 laboratories. TAT is defined as sample collected to report dispatch.\n",
    "   \n",
    "  Analyze the data and determine whether there is any difference in average TAT among the different laboratories at 5%  \n",
    "  significance level.\n",
    "  \n",
    "  Minitab File: LabTAT.mtw\n"
   ]
  },
  {
   "cell_type": "markdown",
   "id": "0530c32d",
   "metadata": {},
   "source": [
    "SOLUTION:\n",
    " As the given question consists of multiple data sets we will  use ANOVA (3 sample test )\n",
    "Null hypothesis as Ho:μ1 = μ2 =μ3 =μ4(there is no difference in average turn around TAT)\n",
    "\n",
    "Alternate hypothesis as Ha::μ1 ≠ μ2 ≠ μ3 ≠ μ3(there is atleast one difference between report)"
   ]
  },
  {
   "cell_type": "code",
   "execution_count": 47,
   "id": "81d5e97d",
   "metadata": {
    "ExecuteTime": {
     "end_time": "2023-10-17T18:52:44.581694Z",
     "start_time": "2023-10-17T18:52:44.554281Z"
    }
   },
   "outputs": [],
   "source": [
    "import pandas as pd \n",
    "import numpy as np \n",
    "import warnings\n",
    "warnings.filterwarnings(\"ignore\")\n",
    "from scipy import stats"
   ]
  },
  {
   "cell_type": "code",
   "execution_count": 49,
   "id": "dc62e896",
   "metadata": {
    "ExecuteTime": {
     "end_time": "2023-10-17T18:53:46.407583Z",
     "start_time": "2023-10-17T18:53:44.430070Z"
    }
   },
   "outputs": [
    {
     "data": {
      "text/html": [
       "<div>\n",
       "<style scoped>\n",
       "    .dataframe tbody tr th:only-of-type {\n",
       "        vertical-align: middle;\n",
       "    }\n",
       "\n",
       "    .dataframe tbody tr th {\n",
       "        vertical-align: top;\n",
       "    }\n",
       "\n",
       "    .dataframe thead th {\n",
       "        text-align: right;\n",
       "    }\n",
       "</style>\n",
       "<table border=\"1\" class=\"dataframe\">\n",
       "  <thead>\n",
       "    <tr style=\"text-align: right;\">\n",
       "      <th></th>\n",
       "      <th>Laboratory 1</th>\n",
       "      <th>Laboratory 2</th>\n",
       "      <th>Laboratory 3</th>\n",
       "      <th>Laboratory 4</th>\n",
       "    </tr>\n",
       "  </thead>\n",
       "  <tbody>\n",
       "    <tr>\n",
       "      <th>0</th>\n",
       "      <td>185.35</td>\n",
       "      <td>165.53</td>\n",
       "      <td>176.70</td>\n",
       "      <td>166.13</td>\n",
       "    </tr>\n",
       "    <tr>\n",
       "      <th>1</th>\n",
       "      <td>170.49</td>\n",
       "      <td>185.91</td>\n",
       "      <td>198.45</td>\n",
       "      <td>160.79</td>\n",
       "    </tr>\n",
       "    <tr>\n",
       "      <th>2</th>\n",
       "      <td>192.77</td>\n",
       "      <td>194.92</td>\n",
       "      <td>201.23</td>\n",
       "      <td>185.18</td>\n",
       "    </tr>\n",
       "    <tr>\n",
       "      <th>3</th>\n",
       "      <td>177.33</td>\n",
       "      <td>183.00</td>\n",
       "      <td>199.61</td>\n",
       "      <td>176.42</td>\n",
       "    </tr>\n",
       "    <tr>\n",
       "      <th>4</th>\n",
       "      <td>193.41</td>\n",
       "      <td>169.57</td>\n",
       "      <td>204.63</td>\n",
       "      <td>152.60</td>\n",
       "    </tr>\n",
       "    <tr>\n",
       "      <th>...</th>\n",
       "      <td>...</td>\n",
       "      <td>...</td>\n",
       "      <td>...</td>\n",
       "      <td>...</td>\n",
       "    </tr>\n",
       "    <tr>\n",
       "      <th>115</th>\n",
       "      <td>178.49</td>\n",
       "      <td>170.66</td>\n",
       "      <td>193.80</td>\n",
       "      <td>172.68</td>\n",
       "    </tr>\n",
       "    <tr>\n",
       "      <th>116</th>\n",
       "      <td>176.08</td>\n",
       "      <td>183.98</td>\n",
       "      <td>215.25</td>\n",
       "      <td>177.64</td>\n",
       "    </tr>\n",
       "    <tr>\n",
       "      <th>117</th>\n",
       "      <td>202.48</td>\n",
       "      <td>174.54</td>\n",
       "      <td>203.99</td>\n",
       "      <td>170.27</td>\n",
       "    </tr>\n",
       "    <tr>\n",
       "      <th>118</th>\n",
       "      <td>182.40</td>\n",
       "      <td>197.18</td>\n",
       "      <td>194.52</td>\n",
       "      <td>150.87</td>\n",
       "    </tr>\n",
       "    <tr>\n",
       "      <th>119</th>\n",
       "      <td>182.09</td>\n",
       "      <td>215.17</td>\n",
       "      <td>221.49</td>\n",
       "      <td>162.21</td>\n",
       "    </tr>\n",
       "  </tbody>\n",
       "</table>\n",
       "<p>120 rows × 4 columns</p>\n",
       "</div>"
      ],
      "text/plain": [
       "     Laboratory 1  Laboratory 2  Laboratory 3  Laboratory 4\n",
       "0          185.35        165.53        176.70        166.13\n",
       "1          170.49        185.91        198.45        160.79\n",
       "2          192.77        194.92        201.23        185.18\n",
       "3          177.33        183.00        199.61        176.42\n",
       "4          193.41        169.57        204.63        152.60\n",
       "..            ...           ...           ...           ...\n",
       "115        178.49        170.66        193.80        172.68\n",
       "116        176.08        183.98        215.25        177.64\n",
       "117        202.48        174.54        203.99        170.27\n",
       "118        182.40        197.18        194.52        150.87\n",
       "119        182.09        215.17        221.49        162.21\n",
       "\n",
       "[120 rows x 4 columns]"
      ]
     },
     "execution_count": 49,
     "metadata": {},
     "output_type": "execute_result"
    }
   ],
   "source": [
    "df1=pd.read_csv(\"LabTAT.csv\")\n",
    "df1"
   ]
  },
  {
   "cell_type": "code",
   "execution_count": 50,
   "id": "c036ee17",
   "metadata": {
    "ExecuteTime": {
     "end_time": "2023-10-17T18:55:35.357010Z",
     "start_time": "2023-10-17T18:55:35.349007Z"
    }
   },
   "outputs": [],
   "source": [
    "t1=df1[\"Laboratory 1\"]\n",
    "t2=df1[\"Laboratory 2\"]\n",
    "t3=df1[\"Laboratory 3\"]\n",
    "t4=df1[\"Laboratory 4\"]"
   ]
  },
  {
   "cell_type": "code",
   "execution_count": 51,
   "id": "9efc72be",
   "metadata": {
    "ExecuteTime": {
     "end_time": "2023-10-17T18:55:49.804759Z",
     "start_time": "2023-10-17T18:55:49.788004Z"
    }
   },
   "outputs": [
    {
     "data": {
      "text/plain": [
       "0      185.35\n",
       "1      170.49\n",
       "2      192.77\n",
       "3      177.33\n",
       "4      193.41\n",
       "        ...  \n",
       "115    178.49\n",
       "116    176.08\n",
       "117    202.48\n",
       "118    182.40\n",
       "119    182.09\n",
       "Name: Laboratory 1, Length: 120, dtype: float64"
      ]
     },
     "execution_count": 51,
     "metadata": {},
     "output_type": "execute_result"
    }
   ],
   "source": [
    "t1"
   ]
  },
  {
   "cell_type": "code",
   "execution_count": 56,
   "id": "fd2cb960",
   "metadata": {
    "ExecuteTime": {
     "end_time": "2023-10-17T19:06:19.819870Z",
     "start_time": "2023-10-17T19:06:19.803172Z"
    }
   },
   "outputs": [
    {
     "data": {
      "text/plain": [
       "2.1156708949992414e-57"
      ]
     },
     "execution_count": 56,
     "metadata": {},
     "output_type": "execute_result"
    }
   ],
   "source": [
    "Fcalc,p=stats.f_oneway(t1,t2,t3,t4)\n",
    "\n",
    "p\n"
   ]
  },
  {
   "cell_type": "code",
   "execution_count": 57,
   "id": "0f5572be",
   "metadata": {
    "ExecuteTime": {
     "end_time": "2023-10-17T19:08:37.758948Z",
     "start_time": "2023-10-17T19:08:37.750887Z"
    }
   },
   "outputs": [
    {
     "name": "stdout",
     "output_type": "stream",
     "text": [
      "Ho is rejected and Ha is accepted\n"
     ]
    }
   ],
   "source": [
    "if p < 0.05:\n",
    "    print(\"Ho is rejected and Ha is accepted\")\n",
    "else:\n",
    "    print(\"Ho is rejected and Ha is rejected\")"
   ]
  },
  {
   "cell_type": "markdown",
   "id": "f697c927",
   "metadata": {},
   "source": [
    "Ha alternative hypothesis is accepted thus atleast one sample TAT report is differnet "
   ]
  },
  {
   "cell_type": "markdown",
   "id": "c2b5fe9e",
   "metadata": {},
   "source": [
    "Q.NO:3\n",
    "\n",
    "Sales of products in four different regions is tabulated for males and females. Find if male-female buyer rations are similar across regions.\n"
   ]
  },
  {
   "cell_type": "markdown",
   "id": "528b2010",
   "metadata": {},
   "source": [
    "solution:\n",
    "\n",
    "As per given problem consists of categorical data we will use Chi square test \n",
    "let as assume Ho= male and female buyers ration is not same\n",
    "\n",
    "and Ha = Male and female buyers ratio is same across the regions "
   ]
  },
  {
   "cell_type": "code",
   "execution_count": 58,
   "id": "74616268",
   "metadata": {
    "ExecuteTime": {
     "end_time": "2023-10-17T19:14:27.768503Z",
     "start_time": "2023-10-17T19:14:27.745479Z"
    }
   },
   "outputs": [],
   "source": [
    "from scipy import stats \n",
    "from scipy.stats import chi2_contingency\n",
    "from scipy.stats import chi2"
   ]
  },
  {
   "cell_type": "code",
   "execution_count": 59,
   "id": "9ccb5e3d",
   "metadata": {
    "ExecuteTime": {
     "end_time": "2023-10-17T19:16:02.228490Z",
     "start_time": "2023-10-17T19:16:02.075965Z"
    }
   },
   "outputs": [],
   "source": [
    "df2=pd.read_csv(\"BuyerRatio.csv\")"
   ]
  },
  {
   "cell_type": "code",
   "execution_count": 60,
   "id": "045ea7ad",
   "metadata": {
    "ExecuteTime": {
     "end_time": "2023-10-17T19:16:05.508263Z",
     "start_time": "2023-10-17T19:16:04.984277Z"
    }
   },
   "outputs": [
    {
     "data": {
      "text/html": [
       "<div>\n",
       "<style scoped>\n",
       "    .dataframe tbody tr th:only-of-type {\n",
       "        vertical-align: middle;\n",
       "    }\n",
       "\n",
       "    .dataframe tbody tr th {\n",
       "        vertical-align: top;\n",
       "    }\n",
       "\n",
       "    .dataframe thead th {\n",
       "        text-align: right;\n",
       "    }\n",
       "</style>\n",
       "<table border=\"1\" class=\"dataframe\">\n",
       "  <thead>\n",
       "    <tr style=\"text-align: right;\">\n",
       "      <th></th>\n",
       "      <th>Observed Values</th>\n",
       "      <th>East</th>\n",
       "      <th>West</th>\n",
       "      <th>North</th>\n",
       "      <th>South</th>\n",
       "    </tr>\n",
       "  </thead>\n",
       "  <tbody>\n",
       "    <tr>\n",
       "      <th>0</th>\n",
       "      <td>Males</td>\n",
       "      <td>50</td>\n",
       "      <td>142</td>\n",
       "      <td>131</td>\n",
       "      <td>70</td>\n",
       "    </tr>\n",
       "    <tr>\n",
       "      <th>1</th>\n",
       "      <td>Females</td>\n",
       "      <td>435</td>\n",
       "      <td>1523</td>\n",
       "      <td>1356</td>\n",
       "      <td>750</td>\n",
       "    </tr>\n",
       "  </tbody>\n",
       "</table>\n",
       "</div>"
      ],
      "text/plain": [
       "  Observed Values  East  West  North  South\n",
       "0           Males    50   142    131     70\n",
       "1         Females   435  1523   1356    750"
      ]
     },
     "execution_count": 60,
     "metadata": {},
     "output_type": "execute_result"
    }
   ],
   "source": [
    "df2"
   ]
  },
  {
   "cell_type": "code",
   "execution_count": 62,
   "id": "d5eb7bce",
   "metadata": {
    "ExecuteTime": {
     "end_time": "2023-10-18T18:42:57.569614Z",
     "start_time": "2023-10-18T18:42:57.560214Z"
    }
   },
   "outputs": [
    {
     "data": {
      "text/html": [
       "<div>\n",
       "<style scoped>\n",
       "    .dataframe tbody tr th:only-of-type {\n",
       "        vertical-align: middle;\n",
       "    }\n",
       "\n",
       "    .dataframe tbody tr th {\n",
       "        vertical-align: top;\n",
       "    }\n",
       "\n",
       "    .dataframe thead th {\n",
       "        text-align: right;\n",
       "    }\n",
       "</style>\n",
       "<table border=\"1\" class=\"dataframe\">\n",
       "  <thead>\n",
       "    <tr style=\"text-align: right;\">\n",
       "      <th></th>\n",
       "      <th>East</th>\n",
       "      <th>West</th>\n",
       "      <th>North</th>\n",
       "      <th>South</th>\n",
       "    </tr>\n",
       "  </thead>\n",
       "  <tbody>\n",
       "    <tr>\n",
       "      <th>0</th>\n",
       "      <td>50</td>\n",
       "      <td>142</td>\n",
       "      <td>131</td>\n",
       "      <td>70</td>\n",
       "    </tr>\n",
       "    <tr>\n",
       "      <th>1</th>\n",
       "      <td>435</td>\n",
       "      <td>1523</td>\n",
       "      <td>1356</td>\n",
       "      <td>750</td>\n",
       "    </tr>\n",
       "  </tbody>\n",
       "</table>\n",
       "</div>"
      ],
      "text/plain": [
       "   East  West  North  South\n",
       "0    50   142    131     70\n",
       "1   435  1523   1356    750"
      ]
     },
     "execution_count": 62,
     "metadata": {},
     "output_type": "execute_result"
    }
   ],
   "source": [
    "df_table = df2.iloc[:,1:6]\n",
    "df_table"
   ]
  },
  {
   "cell_type": "code",
   "execution_count": 79,
   "id": "ceb21c3f",
   "metadata": {
    "ExecuteTime": {
     "end_time": "2023-10-18T19:09:50.969793Z",
     "start_time": "2023-10-18T19:09:50.953954Z"
    }
   },
   "outputs": [
    {
     "data": {
      "text/plain": [
       "array([[  50,  142,  131,   70],\n",
       "       [ 435, 1523, 1356,  750]], dtype=int64)"
      ]
     },
     "execution_count": 79,
     "metadata": {},
     "output_type": "execute_result"
    }
   ],
   "source": [
    "df_table.values"
   ]
  },
  {
   "cell_type": "code",
   "execution_count": 80,
   "id": "b246dc4a",
   "metadata": {
    "ExecuteTime": {
     "end_time": "2023-10-18T19:09:51.793760Z",
     "start_time": "2023-10-18T19:09:51.787834Z"
    }
   },
   "outputs": [],
   "source": [
    "stat,p_val,dof,expected = chi2_contingency([[50,142,131,70],[435,1523,1356,750]])"
   ]
  },
  {
   "cell_type": "code",
   "execution_count": 81,
   "id": "289b914b",
   "metadata": {
    "ExecuteTime": {
     "end_time": "2023-10-18T19:09:52.489602Z",
     "start_time": "2023-10-18T19:09:52.475535Z"
    }
   },
   "outputs": [
    {
     "name": "stdout",
     "output_type": "stream",
     "text": [
      "1.595945538661058\n",
      "0.6603094907091882\n",
      "3\n",
      "[[  42.76531299  146.81287862  131.11756787   72.30424052]\n",
      " [ 442.23468701 1518.18712138 1355.88243213  747.69575948]]\n"
     ]
    }
   ],
   "source": [
    "print(stat)\n",
    "print(p_val)\n",
    "print(dof)\n",
    "print(expected)"
   ]
  },
  {
   "cell_type": "code",
   "execution_count": 82,
   "id": "1c80d270",
   "metadata": {
    "ExecuteTime": {
     "end_time": "2023-10-18T19:09:55.035030Z",
     "start_time": "2023-10-18T19:09:55.027543Z"
    }
   },
   "outputs": [
    {
     "name": "stdout",
     "output_type": "stream",
     "text": [
      "probability=0.950,critical=7.815,stat=1.596\n",
      "Ho is accepted and Ha is rejected\n"
     ]
    }
   ],
   "source": [
    "alpha = 0.05\n",
    "prob=1-alpha\n",
    "critical = chi2.ppf(prob,dof)\n",
    "print('probability=%.3f,critical=%.3f,stat=%.3f'%(prob,critical,stat))\n",
    "if stat >=critical:\n",
    "    print(\"Ho is rejected and Ha is accepted\")\n",
    "else:\n",
    "    print(\"Ho is accepted and Ha is rejected\")"
   ]
  },
  {
   "cell_type": "code",
   "execution_count": 83,
   "id": "c2b28309",
   "metadata": {
    "ExecuteTime": {
     "end_time": "2023-10-18T19:09:56.548062Z",
     "start_time": "2023-10-18T19:09:56.532789Z"
    }
   },
   "outputs": [
    {
     "name": "stdout",
     "output_type": "stream",
     "text": [
      "Ho is accepted and Ha is rejected\n"
     ]
    }
   ],
   "source": [
    "if p_val<= alpha:\n",
    "    print(\"Ho is rejected and Ha is accepted\")\n",
    "else:\n",
    "    print(\"Ho is accepted and Ha is rejected\")"
   ]
  },
  {
   "cell_type": "code",
   "execution_count": 84,
   "id": "c4357fec",
   "metadata": {
    "ExecuteTime": {
     "end_time": "2023-10-18T19:09:57.252402Z",
     "start_time": "2023-10-18T19:09:57.244930Z"
    }
   },
   "outputs": [],
   "source": [
    "#Hence in buyer ratio Ho is accepted and Ha is rejected so we can conclude that male and female buyer ratio is not same "
   ]
  },
  {
   "cell_type": "markdown",
   "id": "7ae5b1b3",
   "metadata": {},
   "source": [
    "Q.NO:4\n",
    "\n",
    "\n",
    " TeleCall uses 4 centers around the globe to process customer order forms. They audit a certain %  of the customer order forms. Any error in order form renders it defective and has to be reworked before processing.  The manager wants to check whether the defective %  varies by centre. Please analyze the data at 5% significance level and help the manager draw appropriate inferences\n",
    "\n",
    "Minitab File: CustomerOrderForm.mtw\n",
    " \n"
   ]
  },
  {
   "cell_type": "markdown",
   "id": "ec8ac2a1",
   "metadata": {},
   "source": [
    "soution:\n",
    "    \n",
    "As per given problem consists of categorical data we will use Chi square test\n",
    "\n",
    "Let as assume Ho = all the countries has same defective % \n",
    " and Ha = alleast one country have more defective % "
   ]
  },
  {
   "cell_type": "code",
   "execution_count": 85,
   "id": "dd64b9be",
   "metadata": {
    "ExecuteTime": {
     "end_time": "2023-10-18T19:10:02.204751Z",
     "start_time": "2023-10-18T19:10:02.189423Z"
    }
   },
   "outputs": [],
   "source": [
    "df3=pd.read_csv(\"Costomer+OrderForm.csv\")"
   ]
  },
  {
   "cell_type": "code",
   "execution_count": 86,
   "id": "1942f8b0",
   "metadata": {
    "ExecuteTime": {
     "end_time": "2023-10-18T19:10:03.727887Z",
     "start_time": "2023-10-18T19:10:03.714511Z"
    }
   },
   "outputs": [
    {
     "data": {
      "text/html": [
       "<div>\n",
       "<style scoped>\n",
       "    .dataframe tbody tr th:only-of-type {\n",
       "        vertical-align: middle;\n",
       "    }\n",
       "\n",
       "    .dataframe tbody tr th {\n",
       "        vertical-align: top;\n",
       "    }\n",
       "\n",
       "    .dataframe thead th {\n",
       "        text-align: right;\n",
       "    }\n",
       "</style>\n",
       "<table border=\"1\" class=\"dataframe\">\n",
       "  <thead>\n",
       "    <tr style=\"text-align: right;\">\n",
       "      <th></th>\n",
       "      <th>Phillippines</th>\n",
       "      <th>Indonesia</th>\n",
       "      <th>Malta</th>\n",
       "      <th>India</th>\n",
       "    </tr>\n",
       "  </thead>\n",
       "  <tbody>\n",
       "    <tr>\n",
       "      <th>0</th>\n",
       "      <td>Error Free</td>\n",
       "      <td>Error Free</td>\n",
       "      <td>Defective</td>\n",
       "      <td>Error Free</td>\n",
       "    </tr>\n",
       "    <tr>\n",
       "      <th>1</th>\n",
       "      <td>Error Free</td>\n",
       "      <td>Error Free</td>\n",
       "      <td>Error Free</td>\n",
       "      <td>Defective</td>\n",
       "    </tr>\n",
       "    <tr>\n",
       "      <th>2</th>\n",
       "      <td>Error Free</td>\n",
       "      <td>Defective</td>\n",
       "      <td>Defective</td>\n",
       "      <td>Error Free</td>\n",
       "    </tr>\n",
       "    <tr>\n",
       "      <th>3</th>\n",
       "      <td>Error Free</td>\n",
       "      <td>Error Free</td>\n",
       "      <td>Error Free</td>\n",
       "      <td>Error Free</td>\n",
       "    </tr>\n",
       "    <tr>\n",
       "      <th>4</th>\n",
       "      <td>Error Free</td>\n",
       "      <td>Error Free</td>\n",
       "      <td>Defective</td>\n",
       "      <td>Error Free</td>\n",
       "    </tr>\n",
       "    <tr>\n",
       "      <th>...</th>\n",
       "      <td>...</td>\n",
       "      <td>...</td>\n",
       "      <td>...</td>\n",
       "      <td>...</td>\n",
       "    </tr>\n",
       "    <tr>\n",
       "      <th>295</th>\n",
       "      <td>Error Free</td>\n",
       "      <td>Error Free</td>\n",
       "      <td>Error Free</td>\n",
       "      <td>Error Free</td>\n",
       "    </tr>\n",
       "    <tr>\n",
       "      <th>296</th>\n",
       "      <td>Error Free</td>\n",
       "      <td>Error Free</td>\n",
       "      <td>Error Free</td>\n",
       "      <td>Error Free</td>\n",
       "    </tr>\n",
       "    <tr>\n",
       "      <th>297</th>\n",
       "      <td>Error Free</td>\n",
       "      <td>Error Free</td>\n",
       "      <td>Defective</td>\n",
       "      <td>Error Free</td>\n",
       "    </tr>\n",
       "    <tr>\n",
       "      <th>298</th>\n",
       "      <td>Error Free</td>\n",
       "      <td>Error Free</td>\n",
       "      <td>Error Free</td>\n",
       "      <td>Error Free</td>\n",
       "    </tr>\n",
       "    <tr>\n",
       "      <th>299</th>\n",
       "      <td>Error Free</td>\n",
       "      <td>Defective</td>\n",
       "      <td>Defective</td>\n",
       "      <td>Error Free</td>\n",
       "    </tr>\n",
       "  </tbody>\n",
       "</table>\n",
       "<p>300 rows × 4 columns</p>\n",
       "</div>"
      ],
      "text/plain": [
       "    Phillippines   Indonesia       Malta       India\n",
       "0     Error Free  Error Free   Defective  Error Free\n",
       "1     Error Free  Error Free  Error Free   Defective\n",
       "2     Error Free   Defective   Defective  Error Free\n",
       "3     Error Free  Error Free  Error Free  Error Free\n",
       "4     Error Free  Error Free   Defective  Error Free\n",
       "..           ...         ...         ...         ...\n",
       "295   Error Free  Error Free  Error Free  Error Free\n",
       "296   Error Free  Error Free  Error Free  Error Free\n",
       "297   Error Free  Error Free   Defective  Error Free\n",
       "298   Error Free  Error Free  Error Free  Error Free\n",
       "299   Error Free   Defective   Defective  Error Free\n",
       "\n",
       "[300 rows x 4 columns]"
      ]
     },
     "execution_count": 86,
     "metadata": {},
     "output_type": "execute_result"
    }
   ],
   "source": [
    "df3"
   ]
  },
  {
   "cell_type": "code",
   "execution_count": 87,
   "id": "540a5ca6",
   "metadata": {
    "ExecuteTime": {
     "end_time": "2023-10-18T19:10:05.253288Z",
     "start_time": "2023-10-18T19:10:05.240420Z"
    }
   },
   "outputs": [
    {
     "data": {
      "text/html": [
       "<div>\n",
       "<style scoped>\n",
       "    .dataframe tbody tr th:only-of-type {\n",
       "        vertical-align: middle;\n",
       "    }\n",
       "\n",
       "    .dataframe tbody tr th {\n",
       "        vertical-align: top;\n",
       "    }\n",
       "\n",
       "    .dataframe thead th {\n",
       "        text-align: right;\n",
       "    }\n",
       "</style>\n",
       "<table border=\"1\" class=\"dataframe\">\n",
       "  <thead>\n",
       "    <tr style=\"text-align: right;\">\n",
       "      <th></th>\n",
       "      <th>Phillippines</th>\n",
       "      <th>Indonesia</th>\n",
       "      <th>Malta</th>\n",
       "      <th>India</th>\n",
       "    </tr>\n",
       "  </thead>\n",
       "  <tbody>\n",
       "    <tr>\n",
       "      <th>0</th>\n",
       "      <td>Error Free</td>\n",
       "      <td>Error Free</td>\n",
       "      <td>Defective</td>\n",
       "      <td>Error Free</td>\n",
       "    </tr>\n",
       "    <tr>\n",
       "      <th>1</th>\n",
       "      <td>Error Free</td>\n",
       "      <td>Error Free</td>\n",
       "      <td>Error Free</td>\n",
       "      <td>Defective</td>\n",
       "    </tr>\n",
       "    <tr>\n",
       "      <th>2</th>\n",
       "      <td>Error Free</td>\n",
       "      <td>Defective</td>\n",
       "      <td>Defective</td>\n",
       "      <td>Error Free</td>\n",
       "    </tr>\n",
       "    <tr>\n",
       "      <th>3</th>\n",
       "      <td>Error Free</td>\n",
       "      <td>Error Free</td>\n",
       "      <td>Error Free</td>\n",
       "      <td>Error Free</td>\n",
       "    </tr>\n",
       "    <tr>\n",
       "      <th>4</th>\n",
       "      <td>Error Free</td>\n",
       "      <td>Error Free</td>\n",
       "      <td>Defective</td>\n",
       "      <td>Error Free</td>\n",
       "    </tr>\n",
       "  </tbody>\n",
       "</table>\n",
       "</div>"
      ],
      "text/plain": [
       "  Phillippines   Indonesia       Malta       India\n",
       "0   Error Free  Error Free   Defective  Error Free\n",
       "1   Error Free  Error Free  Error Free   Defective\n",
       "2   Error Free   Defective   Defective  Error Free\n",
       "3   Error Free  Error Free  Error Free  Error Free\n",
       "4   Error Free  Error Free   Defective  Error Free"
      ]
     },
     "execution_count": 87,
     "metadata": {},
     "output_type": "execute_result"
    }
   ],
   "source": [
    "df3.head()"
   ]
  },
  {
   "cell_type": "code",
   "execution_count": 95,
   "id": "6accb1f8",
   "metadata": {
    "ExecuteTime": {
     "end_time": "2023-11-13T17:59:23.193895Z",
     "start_time": "2023-11-13T17:59:20.863043Z"
    }
   },
   "outputs": [
    {
     "data": {
      "text/plain": [
       "(Error Free    271\n",
       " Defective      29\n",
       " Name: Phillippines, dtype: int64,\n",
       " Error Free    267\n",
       " Defective      33\n",
       " Name: Indonesia, dtype: int64,\n",
       " Error Free    269\n",
       " Defective      31\n",
       " Name: Malta, dtype: int64,\n",
       " Error Free    280\n",
       " Defective      20\n",
       " Name: India, dtype: int64)"
      ]
     },
     "execution_count": 95,
     "metadata": {},
     "output_type": "execute_result"
    }
   ],
   "source": [
    "df3[\"Phillippines\"].value_counts(),df3[\"Indonesia\"].value_counts(),df3[\"Malta\"].value_counts(),df3[\"India\"].value_counts()"
   ]
  },
  {
   "cell_type": "code",
   "execution_count": 74,
   "id": "ab13b51c",
   "metadata": {
    "ExecuteTime": {
     "end_time": "2023-10-18T19:07:11.730957Z",
     "start_time": "2023-10-18T19:07:11.692757Z"
    }
   },
   "outputs": [],
   "source": [
    "observed =([29,33,31,20],[271,267,269,280])"
   ]
  },
  {
   "cell_type": "code",
   "execution_count": 75,
   "id": "8071993d",
   "metadata": {
    "ExecuteTime": {
     "end_time": "2023-10-18T19:07:15.719199Z",
     "start_time": "2023-10-18T19:07:15.701407Z"
    }
   },
   "outputs": [
    {
     "data": {
      "text/plain": [
       "([29, 33, 31, 20], [271, 267, 269, 280])"
      ]
     },
     "execution_count": 75,
     "metadata": {},
     "output_type": "execute_result"
    }
   ],
   "source": [
    "observed"
   ]
  },
  {
   "cell_type": "code",
   "execution_count": 89,
   "id": "19900f9e",
   "metadata": {
    "ExecuteTime": {
     "end_time": "2023-10-18T19:10:37.300086Z",
     "start_time": "2023-10-18T19:10:37.291321Z"
    }
   },
   "outputs": [],
   "source": [
    "stat1,p_val1,dof1,expected1 =chi2_contingency(observed)"
   ]
  },
  {
   "cell_type": "code",
   "execution_count": 90,
   "id": "37217d4c",
   "metadata": {
    "ExecuteTime": {
     "end_time": "2023-10-18T19:10:50.075617Z",
     "start_time": "2023-10-18T19:10:50.066753Z"
    }
   },
   "outputs": [
    {
     "name": "stdout",
     "output_type": "stream",
     "text": [
      "3.858960685820355\n",
      "0.2771020991233135\n",
      "3\n",
      "[[ 28.25  28.25  28.25  28.25]\n",
      " [271.75 271.75 271.75 271.75]]\n"
     ]
    }
   ],
   "source": [
    "print(stat1)\n",
    "print(p_val1)\n",
    "print(dof1)\n",
    "print(expected1)"
   ]
  },
  {
   "cell_type": "code",
   "execution_count": 92,
   "id": "6c4d57c6",
   "metadata": {
    "ExecuteTime": {
     "end_time": "2023-10-18T19:11:44.619216Z",
     "start_time": "2023-10-18T19:11:44.612644Z"
    }
   },
   "outputs": [
    {
     "name": "stdout",
     "output_type": "stream",
     "text": [
      "probability=0.950,critical=7.815,stat=3.859\n",
      "Ho is accepted and Ha is rejected\n"
     ]
    }
   ],
   "source": [
    "alpha = 0.05\n",
    "prob1=1-alpha\n",
    "critical = chi2.ppf(prob1,dof1)\n",
    "print('probability=%.3f,critical=%.3f,stat=%.3f'%(prob1,critical,stat1))\n",
    "if stat >=critical:\n",
    "    print(\"Ho is rejected and Ha is accepted\")\n",
    "else:\n",
    "    print(\"Ho is accepted and Ha is rejected\")"
   ]
  },
  {
   "cell_type": "code",
   "execution_count": 93,
   "id": "2bcdb9ef",
   "metadata": {
    "ExecuteTime": {
     "end_time": "2023-10-18T19:12:05.657097Z",
     "start_time": "2023-10-18T19:12:05.652110Z"
    }
   },
   "outputs": [
    {
     "name": "stdout",
     "output_type": "stream",
     "text": [
      "Ho is accepted and Ha is rejected\n"
     ]
    }
   ],
   "source": [
    "if p_val<= alpha:\n",
    "    print(\"Ho is rejected and Ha is accepted\")\n",
    "else:\n",
    "    print(\"Ho is accepted and Ha is rejected\")"
   ]
  },
  {
   "cell_type": "code",
   "execution_count": 94,
   "id": "0b0779bf",
   "metadata": {
    "ExecuteTime": {
     "end_time": "2023-10-18T19:15:49.486283Z",
     "start_time": "2023-10-18T19:15:49.471901Z"
    }
   },
   "outputs": [],
   "source": [
    "# as p-value 0.277>0.05 is high hence accept null hypothesis \n",
    "#percentage defective in all countries are equalinterences:\n",
    "#as defective percentage is same in all countries there is no need of action"
   ]
  },
  {
   "cell_type": "code",
   "execution_count": null,
   "id": "31a7e485",
   "metadata": {},
   "outputs": [],
   "source": []
  }
 ],
 "metadata": {
  "kernelspec": {
   "display_name": "Python 3 (ipykernel)",
   "language": "python",
   "name": "python3"
  },
  "language_info": {
   "codemirror_mode": {
    "name": "ipython",
    "version": 3
   },
   "file_extension": ".py",
   "mimetype": "text/x-python",
   "name": "python",
   "nbconvert_exporter": "python",
   "pygments_lexer": "ipython3",
   "version": "3.10.9"
  },
  "varInspector": {
   "cols": {
    "lenName": 16,
    "lenType": 16,
    "lenVar": 40
   },
   "kernels_config": {
    "python": {
     "delete_cmd_postfix": "",
     "delete_cmd_prefix": "del ",
     "library": "var_list.py",
     "varRefreshCmd": "print(var_dic_list())"
    },
    "r": {
     "delete_cmd_postfix": ") ",
     "delete_cmd_prefix": "rm(",
     "library": "var_list.r",
     "varRefreshCmd": "cat(var_dic_list()) "
    }
   },
   "types_to_exclude": [
    "module",
    "function",
    "builtin_function_or_method",
    "instance",
    "_Feature"
   ],
   "window_display": false
  }
 },
 "nbformat": 4,
 "nbformat_minor": 5
}
